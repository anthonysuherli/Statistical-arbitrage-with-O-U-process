{
 "cells": [
  {
   "cell_type": "code",
   "execution_count": 1,
   "metadata": {},
   "outputs": [],
   "source": [
    "import featuretools as ft\n",
    "import pandas as pd\n",
    "import numpy as np\n",
    "import seaborn as sns\n",
    "import simfin as sf\n",
    "import datetime as date\n",
    "import matplotlib.pyplot as plt\n",
    "from sklearn.decomposition import PCA\n",
    "from statsmodels.tsa.arima_model import ARIMA\n",
    "from sklearn.linear_model import LinearRegression\n",
    "from sklearn.model_selection import train_test_split\n",
    "import warnings.filterwarnings(\"ignore\")"
   ]
  },
  {
   "cell_type": "code",
   "execution_count": 2,
   "metadata": {},
   "outputs": [
    {
     "name": "stdout",
     "output_type": "stream",
     "text": [
      "Dataset \"us-derived-quarterly\" on disk (3 days old).\n",
      "- Loading from disk ... Done!\n",
      "Dataset \"industries\" on disk (2 days old).\n",
      "- Loading from disk ... Done!\n",
      "Dataset \"us-balance-quarterly-full\" on disk (1 days old).\n",
      "- Loading from disk ... Done!\n",
      "Dataset \"us-companies\" on disk (3 days old).\n",
      "- Loading from disk ... Done!\n",
      "Dataset \"us-cashflow-quarterly-full\" on disk (1 days old).\n",
      "- Loading from disk ... Done!\n",
      "Dataset \"us-income-quarterly-full\" on disk (1 days old).\n",
      "- Loading from disk ... Done!\n",
      "Dataset \"us-shareprices-daily\" on disk (3 days old).\n",
      "- Loading from disk ... Done!\n",
      "Dataset \"us-derived-shareprices-daily\" on disk (3 days old).\n",
      "- Loading from disk ... Done!\n"
     ]
    }
   ],
   "source": [
    "#collect data from api\n",
    "sf.set_api_key('PLEbHyzQgm98TrvHFejzBwikq1mKiJob ')\n",
    "sf.set_data_dir('~/simfin_data/')\n",
    "sf.set_data_dir('C:/Users/suher/Python/Springboard/Capstone 2')\n",
    "figures_and_ratios = sf.load_derived(variant = 'quarterly',market = 'us')\n",
    "sector_industry = sf.load_industries()\n",
    "balance_sheet = sf.load_balance(variant='quarterly-full', market='us')\n",
    "companies = sf.load_companies(market='us')\n",
    "cash_flow = sf.load_cashflow(variant='quarterly-full', market='us')\n",
    "income_statement = sf.load_income(variant='quarterly-full', market='us')\n",
    "historical_prices = sf.load_shareprices(variant = 'daily', market = 'us')\n",
    "price_ratios = sf.load_derived_shareprices(variant='daily', market='us')\n",
    "\n",
    "\n",
    "sp500_daily = pd.read_csv('sp500daily.csv')\n",
    "sp500_list = list(pd.read_csv('constituents_csv.csv')['Symbol'])\n",
    "sp500_daily.Date =  pd.to_datetime(sp500_daily.Date)\n",
    "\n",
    "hp = historical_prices.reset_index()\n",
    "hp = hp[hp['Ticker'].isin(sp500_list)]\n",
    "companies = companies.reset_index()\n",
    "companies = companies[companies['Ticker'].isin(sp500_list)]\n",
    "\n",
    "sector_industry.Sector.unique()\n",
    "\n",
    "sp500_daily.set_index('Date',inplace=True)\n",
    "\n",
    "sector_industry.reset_index(inplace=True)\n",
    "comp_sector = pd.merge(companies,sector_industry,how='left',left_on='IndustryId',right_on='IndustryId')\n",
    "\n",
    "hp_ = pd.merge(hp,comp_sector[['SimFinId','Sector']],how='left',left_on='SimFinId',right_on='SimFinId')\n",
    "\n",
    "t_hp = hp_[hp_['Sector'] == 'Technology']\n",
    "f_hp = hp_[hp_['Sector'] == 'Financial Services']\n",
    "s_hp = sp500_daily[['Open','Close']]\n",
    "\n",
    "s_open = s_hp.Open\n",
    "s_close = s_hp.Close\n",
    "t_open = t_hp.set_index('Date').pivot(columns='Ticker',values='Open')\n",
    "t_close = t_hp.set_index('Date').pivot(columns='Ticker',values='Close')\n",
    "f_open = f_hp.set_index('Date').pivot(columns='Ticker',values='Open')\n",
    "f_close = f_hp.set_index('Date').pivot(columns='Ticker',values='Close')\n",
    "\n",
    "st_close = pd.DataFrame(s_close).join(t_close)\n",
    "st_close.rename(columns={'Close':'SPX'},inplace=True)\n",
    "st_close_ret = st_close.pct_change().iloc[1:,:]"
   ]
  },
  {
   "cell_type": "code",
   "execution_count": 3,
   "metadata": {
    "scrolled": true
   },
   "outputs": [
    {
     "data": {
      "text/html": [
       "<div>\n",
       "<style scoped>\n",
       "    .dataframe tbody tr th:only-of-type {\n",
       "        vertical-align: middle;\n",
       "    }\n",
       "\n",
       "    .dataframe tbody tr th {\n",
       "        vertical-align: top;\n",
       "    }\n",
       "\n",
       "    .dataframe thead th {\n",
       "        text-align: right;\n",
       "    }\n",
       "</style>\n",
       "<table border=\"1\" class=\"dataframe\">\n",
       "  <thead>\n",
       "    <tr style=\"text-align: right;\">\n",
       "      <th></th>\n",
       "      <th>SPX</th>\n",
       "      <th>AAPL</th>\n",
       "      <th>ADBE</th>\n",
       "      <th>ADI</th>\n",
       "      <th>ADSK</th>\n",
       "      <th>AKAM</th>\n",
       "      <th>AMAT</th>\n",
       "      <th>AMD</th>\n",
       "      <th>ANET</th>\n",
       "      <th>ANSS</th>\n",
       "      <th>...</th>\n",
       "      <th>SWKS</th>\n",
       "      <th>TEL</th>\n",
       "      <th>TTWO</th>\n",
       "      <th>TWTR</th>\n",
       "      <th>TXN</th>\n",
       "      <th>TYL</th>\n",
       "      <th>VRSN</th>\n",
       "      <th>WDC</th>\n",
       "      <th>XLNX</th>\n",
       "      <th>XRX</th>\n",
       "    </tr>\n",
       "    <tr>\n",
       "      <th>Date</th>\n",
       "      <th></th>\n",
       "      <th></th>\n",
       "      <th></th>\n",
       "      <th></th>\n",
       "      <th></th>\n",
       "      <th></th>\n",
       "      <th></th>\n",
       "      <th></th>\n",
       "      <th></th>\n",
       "      <th></th>\n",
       "      <th></th>\n",
       "      <th></th>\n",
       "      <th></th>\n",
       "      <th></th>\n",
       "      <th></th>\n",
       "      <th></th>\n",
       "      <th></th>\n",
       "      <th></th>\n",
       "      <th></th>\n",
       "      <th></th>\n",
       "      <th></th>\n",
       "    </tr>\n",
       "  </thead>\n",
       "  <tbody>\n",
       "    <tr>\n",
       "      <th>2010-01-05</th>\n",
       "      <td>0.003116</td>\n",
       "      <td>0.002618</td>\n",
       "      <td>0.016446</td>\n",
       "      <td>-0.001579</td>\n",
       "      <td>-0.015193</td>\n",
       "      <td>0.029707</td>\n",
       "      <td>-0.007692</td>\n",
       "      <td>0.001031</td>\n",
       "      <td>NaN</td>\n",
       "      <td>-0.022401</td>\n",
       "      <td>...</td>\n",
       "      <td>0.015520</td>\n",
       "      <td>-0.014782</td>\n",
       "      <td>0.006731</td>\n",
       "      <td>NaN</td>\n",
       "      <td>-0.005767</td>\n",
       "      <td>0.023645</td>\n",
       "      <td>0.010509</td>\n",
       "      <td>0.026513</td>\n",
       "      <td>-0.012608</td>\n",
       "      <td>0.001159</td>\n",
       "    </tr>\n",
       "    <tr>\n",
       "      <th>2010-01-06</th>\n",
       "      <td>0.000546</td>\n",
       "      <td>-0.016971</td>\n",
       "      <td>-0.002122</td>\n",
       "      <td>-0.001898</td>\n",
       "      <td>0.002373</td>\n",
       "      <td>-0.008243</td>\n",
       "      <td>-0.002114</td>\n",
       "      <td>-0.014418</td>\n",
       "      <td>NaN</td>\n",
       "      <td>-0.006645</td>\n",
       "      <td>...</td>\n",
       "      <td>-0.009302</td>\n",
       "      <td>0.020276</td>\n",
       "      <td>-0.002865</td>\n",
       "      <td>NaN</td>\n",
       "      <td>-0.007347</td>\n",
       "      <td>-0.000481</td>\n",
       "      <td>-0.010800</td>\n",
       "      <td>0.000861</td>\n",
       "      <td>-0.006784</td>\n",
       "      <td>-0.009259</td>\n",
       "    </tr>\n",
       "    <tr>\n",
       "      <th>2010-01-07</th>\n",
       "      <td>0.004001</td>\n",
       "      <td>-0.001328</td>\n",
       "      <td>-0.019405</td>\n",
       "      <td>-0.007921</td>\n",
       "      <td>0.005525</td>\n",
       "      <td>0.000378</td>\n",
       "      <td>-0.010593</td>\n",
       "      <td>-0.010449</td>\n",
       "      <td>NaN</td>\n",
       "      <td>0.002537</td>\n",
       "      <td>...</td>\n",
       "      <td>-0.011402</td>\n",
       "      <td>-0.018680</td>\n",
       "      <td>-0.004789</td>\n",
       "      <td>NaN</td>\n",
       "      <td>0.003116</td>\n",
       "      <td>-0.013000</td>\n",
       "      <td>-0.013748</td>\n",
       "      <td>-0.019570</td>\n",
       "      <td>-0.010044</td>\n",
       "      <td>0.004673</td>\n",
       "    </tr>\n",
       "    <tr>\n",
       "      <th>2010-01-08</th>\n",
       "      <td>0.002882</td>\n",
       "      <td>0.006649</td>\n",
       "      <td>-0.005422</td>\n",
       "      <td>0.005749</td>\n",
       "      <td>0.030612</td>\n",
       "      <td>0.000000</td>\n",
       "      <td>0.038544</td>\n",
       "      <td>-0.004224</td>\n",
       "      <td>NaN</td>\n",
       "      <td>0.006903</td>\n",
       "      <td>...</td>\n",
       "      <td>0.017639</td>\n",
       "      <td>0.012556</td>\n",
       "      <td>0.002887</td>\n",
       "      <td>NaN</td>\n",
       "      <td>0.022913</td>\n",
       "      <td>0.011707</td>\n",
       "      <td>0.007790</td>\n",
       "      <td>0.005045</td>\n",
       "      <td>0.014610</td>\n",
       "      <td>-0.003488</td>\n",
       "    </tr>\n",
       "    <tr>\n",
       "      <th>2010-01-11</th>\n",
       "      <td>0.001747</td>\n",
       "      <td>-0.009247</td>\n",
       "      <td>-0.013083</td>\n",
       "      <td>-0.005716</td>\n",
       "      <td>-0.000381</td>\n",
       "      <td>-0.003399</td>\n",
       "      <td>0.021993</td>\n",
       "      <td>-0.030753</td>\n",
       "      <td>NaN</td>\n",
       "      <td>0.003885</td>\n",
       "      <td>...</td>\n",
       "      <td>0.000667</td>\n",
       "      <td>-0.008800</td>\n",
       "      <td>0.024952</td>\n",
       "      <td>NaN</td>\n",
       "      <td>-0.012908</td>\n",
       "      <td>-0.011090</td>\n",
       "      <td>-0.002848</td>\n",
       "      <td>0.001091</td>\n",
       "      <td>-0.010400</td>\n",
       "      <td>0.024504</td>\n",
       "    </tr>\n",
       "  </tbody>\n",
       "</table>\n",
       "<p>5 rows × 65 columns</p>\n",
       "</div>"
      ],
      "text/plain": [
       "                 SPX      AAPL      ADBE       ADI      ADSK      AKAM  \\\n",
       "Date                                                                     \n",
       "2010-01-05  0.003116  0.002618  0.016446 -0.001579 -0.015193  0.029707   \n",
       "2010-01-06  0.000546 -0.016971 -0.002122 -0.001898  0.002373 -0.008243   \n",
       "2010-01-07  0.004001 -0.001328 -0.019405 -0.007921  0.005525  0.000378   \n",
       "2010-01-08  0.002882  0.006649 -0.005422  0.005749  0.030612  0.000000   \n",
       "2010-01-11  0.001747 -0.009247 -0.013083 -0.005716 -0.000381 -0.003399   \n",
       "\n",
       "                AMAT       AMD  ANET      ANSS  ...      SWKS       TEL  \\\n",
       "Date                                            ...                       \n",
       "2010-01-05 -0.007692  0.001031   NaN -0.022401  ...  0.015520 -0.014782   \n",
       "2010-01-06 -0.002114 -0.014418   NaN -0.006645  ... -0.009302  0.020276   \n",
       "2010-01-07 -0.010593 -0.010449   NaN  0.002537  ... -0.011402 -0.018680   \n",
       "2010-01-08  0.038544 -0.004224   NaN  0.006903  ...  0.017639  0.012556   \n",
       "2010-01-11  0.021993 -0.030753   NaN  0.003885  ...  0.000667 -0.008800   \n",
       "\n",
       "                TTWO  TWTR       TXN       TYL      VRSN       WDC      XLNX  \\\n",
       "Date                                                                           \n",
       "2010-01-05  0.006731   NaN -0.005767  0.023645  0.010509  0.026513 -0.012608   \n",
       "2010-01-06 -0.002865   NaN -0.007347 -0.000481 -0.010800  0.000861 -0.006784   \n",
       "2010-01-07 -0.004789   NaN  0.003116 -0.013000 -0.013748 -0.019570 -0.010044   \n",
       "2010-01-08  0.002887   NaN  0.022913  0.011707  0.007790  0.005045  0.014610   \n",
       "2010-01-11  0.024952   NaN -0.012908 -0.011090 -0.002848  0.001091 -0.010400   \n",
       "\n",
       "                 XRX  \n",
       "Date                  \n",
       "2010-01-05  0.001159  \n",
       "2010-01-06 -0.009259  \n",
       "2010-01-07  0.004673  \n",
       "2010-01-08 -0.003488  \n",
       "2010-01-11  0.024504  \n",
       "\n",
       "[5 rows x 65 columns]"
      ]
     },
     "execution_count": 3,
     "metadata": {},
     "output_type": "execute_result"
    }
   ],
   "source": [
    "st_close_ret.head()"
   ]
  },
  {
   "cell_type": "markdown",
   "metadata": {},
   "source": [
    "\n",
    "Check daily returns data integrity by testing stationarity (anderson-fuller test)."
   ]
  },
  {
   "cell_type": "code",
   "execution_count": 4,
   "metadata": {},
   "outputs": [
    {
     "name": "stdout",
     "output_type": "stream",
     "text": [
      "[5.553316228250814e-21, 0.0, 0.0, 0.0, 4.9922408583287756e-27, 0.0, 2.038736506225406e-30, 0.0, 0.0, 0.0, 0.0, 4.381051964154431e-29, 0.0, 0.0, 0.0, 0.0, 0.0, 0.0, 0.0, 0.0, 0.0, 0.0, 0.0, 0.0, 0.0, 0.0, 0.0, 6.493561648922373e-26, 0.0, 0.0, 0.0, 0.0, 4.38949639290485e-26, 0.0, 0.0, 0.0, 0.0, 0.0, 0.0, 0.0, 2.360825648999867e-30, 0.0, 0.0, 0.0, 8.111678817735038e-28, 1.6110881279268902e-27, 7.96407307737618e-18, 0.0, 0.0, 0.0, 0.0, 0.0, 0.0, 0.0, 0.0, 0.0, 0.0, 0.0, 0.0, 7.904098580702106e-19, 0.0, 0.0, 0.0, 0.0, 0.0]\n"
     ]
    }
   ],
   "source": [
    "from statsmodels.tsa.stattools import adfuller\n",
    "\n",
    "def check_stationarity(df): \n",
    "    adf_scores = []\n",
    "    for i in list(df.columns): \n",
    "        curr_adf = adfuller(df[i].dropna())\n",
    "        if curr_adf[1] > .05: \n",
    "            print('return of '+ i +'is not stationary')\n",
    "        adf_scores.append(curr_adf[1])\n",
    "    print(adf_scores)   \n",
    "    \n",
    "check_stationarity(st_close_ret)"
   ]
  },
  {
   "cell_type": "markdown",
   "metadata": {},
   "source": [
    "All returns are stationary, proceeding to EDA on tech daily returns."
   ]
  },
  {
   "cell_type": "code",
   "execution_count": 5,
   "metadata": {},
   "outputs": [
    {
     "data": {
      "text/plain": [
       "<AxesSubplot:>"
      ]
     },
     "execution_count": 5,
     "metadata": {},
     "output_type": "execute_result"
    },
    {
     "data": {
      "image/png": "[encoded data removed]",
      "text/plain": [
       "<Figure size 432x288 with 2 Axes>"
      ]
     },
     "metadata": {
      "needs_background": "light"
     },
     "output_type": "display_data"
    }
   ],
   "source": [
    "st_cormat = st_close_ret.corr()\n",
    "\n",
    "sns.heatmap(st_cormat)"
   ]
  },
  {
   "cell_type": "code",
   "execution_count": 35,
   "metadata": {},
   "outputs": [
    {
     "data": {
      "text/html": [
       "<div>\n",
       "<style scoped>\n",
       "    .dataframe tbody tr th:only-of-type {\n",
       "        vertical-align: middle;\n",
       "    }\n",
       "\n",
       "    .dataframe tbody tr th {\n",
       "        vertical-align: top;\n",
       "    }\n",
       "\n",
       "    .dataframe thead th {\n",
       "        text-align: right;\n",
       "    }\n",
       "</style>\n",
       "<table border=\"1\" class=\"dataframe\">\n",
       "  <thead>\n",
       "    <tr style=\"text-align: right;\">\n",
       "      <th></th>\n",
       "      <th>SPX</th>\n",
       "      <th>AAPL</th>\n",
       "      <th>ADBE</th>\n",
       "      <th>ADI</th>\n",
       "      <th>ADSK</th>\n",
       "      <th>AKAM</th>\n",
       "      <th>AMAT</th>\n",
       "      <th>AMD</th>\n",
       "      <th>ANET</th>\n",
       "      <th>ANSS</th>\n",
       "      <th>...</th>\n",
       "      <th>SWKS</th>\n",
       "      <th>TEL</th>\n",
       "      <th>TTWO</th>\n",
       "      <th>TWTR</th>\n",
       "      <th>TXN</th>\n",
       "      <th>TYL</th>\n",
       "      <th>VRSN</th>\n",
       "      <th>WDC</th>\n",
       "      <th>XLNX</th>\n",
       "      <th>XRX</th>\n",
       "    </tr>\n",
       "  </thead>\n",
       "  <tbody>\n",
       "    <tr>\n",
       "      <th>SPX</th>\n",
       "      <td>1.000000</td>\n",
       "      <td>0.594454</td>\n",
       "      <td>0.640472</td>\n",
       "      <td>0.683298</td>\n",
       "      <td>0.653121</td>\n",
       "      <td>0.508136</td>\n",
       "      <td>0.647975</td>\n",
       "      <td>0.447742</td>\n",
       "      <td>0.405457</td>\n",
       "      <td>0.676361</td>\n",
       "      <td>...</td>\n",
       "      <td>0.583891</td>\n",
       "      <td>0.735098</td>\n",
       "      <td>0.498561</td>\n",
       "      <td>0.299533</td>\n",
       "      <td>0.702269</td>\n",
       "      <td>0.572662</td>\n",
       "      <td>0.565424</td>\n",
       "      <td>0.535550</td>\n",
       "      <td>0.589004</td>\n",
       "      <td>0.622795</td>\n",
       "    </tr>\n",
       "    <tr>\n",
       "      <th>AAPL</th>\n",
       "      <td>0.594454</td>\n",
       "      <td>1.000000</td>\n",
       "      <td>0.391650</td>\n",
       "      <td>0.451282</td>\n",
       "      <td>0.404948</td>\n",
       "      <td>0.288814</td>\n",
       "      <td>0.449266</td>\n",
       "      <td>0.301571</td>\n",
       "      <td>0.290395</td>\n",
       "      <td>0.420987</td>\n",
       "      <td>...</td>\n",
       "      <td>0.495559</td>\n",
       "      <td>0.443582</td>\n",
       "      <td>0.337278</td>\n",
       "      <td>0.246508</td>\n",
       "      <td>0.466154</td>\n",
       "      <td>0.336545</td>\n",
       "      <td>0.344159</td>\n",
       "      <td>0.342228</td>\n",
       "      <td>0.368228</td>\n",
       "      <td>0.328292</td>\n",
       "    </tr>\n",
       "    <tr>\n",
       "      <th>ADBE</th>\n",
       "      <td>0.640472</td>\n",
       "      <td>0.391650</td>\n",
       "      <td>1.000000</td>\n",
       "      <td>0.489951</td>\n",
       "      <td>0.597206</td>\n",
       "      <td>0.377447</td>\n",
       "      <td>0.474976</td>\n",
       "      <td>0.327088</td>\n",
       "      <td>0.381254</td>\n",
       "      <td>0.544977</td>\n",
       "      <td>...</td>\n",
       "      <td>0.385006</td>\n",
       "      <td>0.473604</td>\n",
       "      <td>0.417703</td>\n",
       "      <td>0.286828</td>\n",
       "      <td>0.488523</td>\n",
       "      <td>0.501832</td>\n",
       "      <td>0.426522</td>\n",
       "      <td>0.371542</td>\n",
       "      <td>0.436130</td>\n",
       "      <td>0.388711</td>\n",
       "    </tr>\n",
       "    <tr>\n",
       "      <th>ADI</th>\n",
       "      <td>0.683298</td>\n",
       "      <td>0.451282</td>\n",
       "      <td>0.489951</td>\n",
       "      <td>1.000000</td>\n",
       "      <td>0.518988</td>\n",
       "      <td>0.392218</td>\n",
       "      <td>0.668798</td>\n",
       "      <td>0.436903</td>\n",
       "      <td>0.336469</td>\n",
       "      <td>0.510570</td>\n",
       "      <td>...</td>\n",
       "      <td>0.623242</td>\n",
       "      <td>0.619291</td>\n",
       "      <td>0.385259</td>\n",
       "      <td>0.253183</td>\n",
       "      <td>0.790528</td>\n",
       "      <td>0.417567</td>\n",
       "      <td>0.409653</td>\n",
       "      <td>0.487627</td>\n",
       "      <td>0.687649</td>\n",
       "      <td>0.454002</td>\n",
       "    </tr>\n",
       "    <tr>\n",
       "      <th>ADSK</th>\n",
       "      <td>0.653121</td>\n",
       "      <td>0.404948</td>\n",
       "      <td>0.597206</td>\n",
       "      <td>0.518988</td>\n",
       "      <td>1.000000</td>\n",
       "      <td>0.403540</td>\n",
       "      <td>0.517180</td>\n",
       "      <td>0.360747</td>\n",
       "      <td>0.386889</td>\n",
       "      <td>0.593243</td>\n",
       "      <td>...</td>\n",
       "      <td>0.467301</td>\n",
       "      <td>0.539521</td>\n",
       "      <td>0.382253</td>\n",
       "      <td>0.293418</td>\n",
       "      <td>0.527280</td>\n",
       "      <td>0.456132</td>\n",
       "      <td>0.451628</td>\n",
       "      <td>0.433908</td>\n",
       "      <td>0.460370</td>\n",
       "      <td>0.418679</td>\n",
       "    </tr>\n",
       "  </tbody>\n",
       "</table>\n",
       "<p>5 rows × 65 columns</p>\n",
       "</div>"
      ],
      "text/plain": [
       "           SPX      AAPL      ADBE       ADI      ADSK      AKAM      AMAT  \\\n",
       "SPX   1.000000  0.594454  0.640472  0.683298  0.653121  0.508136  0.647975   \n",
       "AAPL  0.594454  1.000000  0.391650  0.451282  0.404948  0.288814  0.449266   \n",
       "ADBE  0.640472  0.391650  1.000000  0.489951  0.597206  0.377447  0.474976   \n",
       "ADI   0.683298  0.451282  0.489951  1.000000  0.518988  0.392218  0.668798   \n",
       "ADSK  0.653121  0.404948  0.597206  0.518988  1.000000  0.403540  0.517180   \n",
       "\n",
       "           AMD      ANET      ANSS  ...      SWKS       TEL      TTWO  \\\n",
       "SPX   0.447742  0.405457  0.676361  ...  0.583891  0.735098  0.498561   \n",
       "AAPL  0.301571  0.290395  0.420987  ...  0.495559  0.443582  0.337278   \n",
       "ADBE  0.327088  0.381254  0.544977  ...  0.385006  0.473604  0.417703   \n",
       "ADI   0.436903  0.336469  0.510570  ...  0.623242  0.619291  0.385259   \n",
       "ADSK  0.360747  0.386889  0.593243  ...  0.467301  0.539521  0.382253   \n",
       "\n",
       "          TWTR       TXN       TYL      VRSN       WDC      XLNX       XRX  \n",
       "SPX   0.299533  0.702269  0.572662  0.565424  0.535550  0.589004  0.622795  \n",
       "AAPL  0.246508  0.466154  0.336545  0.344159  0.342228  0.368228  0.328292  \n",
       "ADBE  0.286828  0.488523  0.501832  0.426522  0.371542  0.436130  0.388711  \n",
       "ADI   0.253183  0.790528  0.417567  0.409653  0.487627  0.687649  0.454002  \n",
       "ADSK  0.293418  0.527280  0.456132  0.451628  0.433908  0.460370  0.418679  \n",
       "\n",
       "[5 rows x 65 columns]"
      ]
     },
     "execution_count": 35,
     "metadata": {},
     "output_type": "execute_result"
    }
   ],
   "source": [
    "st_cormat.head()"
   ]
  },
  {
   "cell_type": "code",
   "execution_count": 36,
   "metadata": {},
   "outputs": [
    {
     "data": {
      "image/png": "[encoded data removed]",
      "text/plain": [
       "<Figure size 432x288 with 1 Axes>"
      ]
     },
     "metadata": {},
     "output_type": "display_data"
    }
   ],
   "source": [
    "sns.set_style('whitegrid')\n",
    "spcor = sns.scatterplot(x=st_cormat.columns[1:],y=st_cormat.SPX[1:]);\n",
    "plt.ylabel('correlation with S&P 500');\n",
    "plt.xlabel('technology stocks in the S&P 500');\n",
    "spcor.axes.get_xaxis().set_ticks([]);"
   ]
  },
  {
   "cell_type": "markdown",
   "metadata": {},
   "source": [
    "Test creating a base capm model."
   ]
  },
  {
   "cell_type": "code",
   "execution_count": 131,
   "metadata": {
    "scrolled": true
   },
   "outputs": [
    {
     "data": {
      "text/html": [
       "<div>\n",
       "<style scoped>\n",
       "    .dataframe tbody tr th:only-of-type {\n",
       "        vertical-align: middle;\n",
       "    }\n",
       "\n",
       "    .dataframe tbody tr th {\n",
       "        vertical-align: top;\n",
       "    }\n",
       "\n",
       "    .dataframe thead th {\n",
       "        text-align: right;\n",
       "    }\n",
       "</style>\n",
       "<table border=\"1\" class=\"dataframe\">\n",
       "  <thead>\n",
       "    <tr style=\"text-align: right;\">\n",
       "      <th></th>\n",
       "      <th>SPX</th>\n",
       "      <th>AAPL</th>\n",
       "      <th>ADBE</th>\n",
       "      <th>ADI</th>\n",
       "      <th>ADSK</th>\n",
       "      <th>AKAM</th>\n",
       "      <th>AMAT</th>\n",
       "      <th>AMD</th>\n",
       "      <th>ANET</th>\n",
       "      <th>ANSS</th>\n",
       "      <th>...</th>\n",
       "      <th>XRX</th>\n",
       "      <th>IXN</th>\n",
       "      <th>IGM</th>\n",
       "      <th>IGV</th>\n",
       "      <th>XNTK</th>\n",
       "      <th>XLK</th>\n",
       "      <th>XSD</th>\n",
       "      <th>VGT</th>\n",
       "      <th>RYT</th>\n",
       "      <th>XSW</th>\n",
       "    </tr>\n",
       "    <tr>\n",
       "      <th>Date</th>\n",
       "      <th></th>\n",
       "      <th></th>\n",
       "      <th></th>\n",
       "      <th></th>\n",
       "      <th></th>\n",
       "      <th></th>\n",
       "      <th></th>\n",
       "      <th></th>\n",
       "      <th></th>\n",
       "      <th></th>\n",
       "      <th></th>\n",
       "      <th></th>\n",
       "      <th></th>\n",
       "      <th></th>\n",
       "      <th></th>\n",
       "      <th></th>\n",
       "      <th></th>\n",
       "      <th></th>\n",
       "      <th></th>\n",
       "      <th></th>\n",
       "      <th></th>\n",
       "    </tr>\n",
       "  </thead>\n",
       "  <tbody>\n",
       "    <tr>\n",
       "      <th>2010-01-05</th>\n",
       "      <td>0.003116</td>\n",
       "      <td>0.002618</td>\n",
       "      <td>0.016446</td>\n",
       "      <td>-0.001579</td>\n",
       "      <td>-0.015193</td>\n",
       "      <td>0.029707</td>\n",
       "      <td>-0.007692</td>\n",
       "      <td>0.001031</td>\n",
       "      <td>NaN</td>\n",
       "      <td>-0.022401</td>\n",
       "      <td>...</td>\n",
       "      <td>0.001159</td>\n",
       "      <td>NaN</td>\n",
       "      <td>NaN</td>\n",
       "      <td>NaN</td>\n",
       "      <td>NaN</td>\n",
       "      <td>NaN</td>\n",
       "      <td>NaN</td>\n",
       "      <td>NaN</td>\n",
       "      <td>NaN</td>\n",
       "      <td>NaN</td>\n",
       "    </tr>\n",
       "    <tr>\n",
       "      <th>2010-01-06</th>\n",
       "      <td>0.000546</td>\n",
       "      <td>-0.016971</td>\n",
       "      <td>-0.002122</td>\n",
       "      <td>-0.001898</td>\n",
       "      <td>0.002373</td>\n",
       "      <td>-0.008243</td>\n",
       "      <td>-0.002114</td>\n",
       "      <td>-0.014418</td>\n",
       "      <td>NaN</td>\n",
       "      <td>-0.006645</td>\n",
       "      <td>...</td>\n",
       "      <td>-0.009259</td>\n",
       "      <td>NaN</td>\n",
       "      <td>NaN</td>\n",
       "      <td>NaN</td>\n",
       "      <td>NaN</td>\n",
       "      <td>NaN</td>\n",
       "      <td>NaN</td>\n",
       "      <td>NaN</td>\n",
       "      <td>NaN</td>\n",
       "      <td>NaN</td>\n",
       "    </tr>\n",
       "    <tr>\n",
       "      <th>2010-01-07</th>\n",
       "      <td>0.004001</td>\n",
       "      <td>-0.001328</td>\n",
       "      <td>-0.019405</td>\n",
       "      <td>-0.007921</td>\n",
       "      <td>0.005525</td>\n",
       "      <td>0.000378</td>\n",
       "      <td>-0.010593</td>\n",
       "      <td>-0.010449</td>\n",
       "      <td>NaN</td>\n",
       "      <td>0.002537</td>\n",
       "      <td>...</td>\n",
       "      <td>0.004673</td>\n",
       "      <td>NaN</td>\n",
       "      <td>NaN</td>\n",
       "      <td>NaN</td>\n",
       "      <td>NaN</td>\n",
       "      <td>NaN</td>\n",
       "      <td>NaN</td>\n",
       "      <td>NaN</td>\n",
       "      <td>NaN</td>\n",
       "      <td>NaN</td>\n",
       "    </tr>\n",
       "    <tr>\n",
       "      <th>2010-01-08</th>\n",
       "      <td>0.002882</td>\n",
       "      <td>0.006649</td>\n",
       "      <td>-0.005422</td>\n",
       "      <td>0.005749</td>\n",
       "      <td>0.030612</td>\n",
       "      <td>0.000000</td>\n",
       "      <td>0.038544</td>\n",
       "      <td>-0.004224</td>\n",
       "      <td>NaN</td>\n",
       "      <td>0.006903</td>\n",
       "      <td>...</td>\n",
       "      <td>-0.003488</td>\n",
       "      <td>NaN</td>\n",
       "      <td>NaN</td>\n",
       "      <td>NaN</td>\n",
       "      <td>NaN</td>\n",
       "      <td>NaN</td>\n",
       "      <td>NaN</td>\n",
       "      <td>NaN</td>\n",
       "      <td>NaN</td>\n",
       "      <td>NaN</td>\n",
       "    </tr>\n",
       "    <tr>\n",
       "      <th>2010-01-11</th>\n",
       "      <td>0.001747</td>\n",
       "      <td>-0.009247</td>\n",
       "      <td>-0.013083</td>\n",
       "      <td>-0.005716</td>\n",
       "      <td>-0.000381</td>\n",
       "      <td>-0.003399</td>\n",
       "      <td>0.021993</td>\n",
       "      <td>-0.030753</td>\n",
       "      <td>NaN</td>\n",
       "      <td>0.003885</td>\n",
       "      <td>...</td>\n",
       "      <td>0.024504</td>\n",
       "      <td>NaN</td>\n",
       "      <td>NaN</td>\n",
       "      <td>NaN</td>\n",
       "      <td>NaN</td>\n",
       "      <td>NaN</td>\n",
       "      <td>NaN</td>\n",
       "      <td>NaN</td>\n",
       "      <td>NaN</td>\n",
       "      <td>NaN</td>\n",
       "    </tr>\n",
       "  </tbody>\n",
       "</table>\n",
       "<p>5 rows × 74 columns</p>\n",
       "</div>"
      ],
      "text/plain": [
       "                 SPX      AAPL      ADBE       ADI      ADSK      AKAM  \\\n",
       "Date                                                                     \n",
       "2010-01-05  0.003116  0.002618  0.016446 -0.001579 -0.015193  0.029707   \n",
       "2010-01-06  0.000546 -0.016971 -0.002122 -0.001898  0.002373 -0.008243   \n",
       "2010-01-07  0.004001 -0.001328 -0.019405 -0.007921  0.005525  0.000378   \n",
       "2010-01-08  0.002882  0.006649 -0.005422  0.005749  0.030612  0.000000   \n",
       "2010-01-11  0.001747 -0.009247 -0.013083 -0.005716 -0.000381 -0.003399   \n",
       "\n",
       "                AMAT       AMD  ANET      ANSS  ...       XRX  IXN  IGM  IGV  \\\n",
       "Date                                            ...                            \n",
       "2010-01-05 -0.007692  0.001031   NaN -0.022401  ...  0.001159  NaN  NaN  NaN   \n",
       "2010-01-06 -0.002114 -0.014418   NaN -0.006645  ... -0.009259  NaN  NaN  NaN   \n",
       "2010-01-07 -0.010593 -0.010449   NaN  0.002537  ...  0.004673  NaN  NaN  NaN   \n",
       "2010-01-08  0.038544 -0.004224   NaN  0.006903  ... -0.003488  NaN  NaN  NaN   \n",
       "2010-01-11  0.021993 -0.030753   NaN  0.003885  ...  0.024504  NaN  NaN  NaN   \n",
       "\n",
       "            XNTK  XLK  XSD  VGT  RYT  XSW  \n",
       "Date                                       \n",
       "2010-01-05   NaN  NaN  NaN  NaN  NaN  NaN  \n",
       "2010-01-06   NaN  NaN  NaN  NaN  NaN  NaN  \n",
       "2010-01-07   NaN  NaN  NaN  NaN  NaN  NaN  \n",
       "2010-01-08   NaN  NaN  NaN  NaN  NaN  NaN  \n",
       "2010-01-11   NaN  NaN  NaN  NaN  NaN  NaN  \n",
       "\n",
       "[5 rows x 74 columns]"
      ]
     },
     "execution_count": 131,
     "metadata": {},
     "output_type": "execute_result"
    }
   ],
   "source": [
    "tech_etf = ['IXN','IGM','IGV','XNTK','XLK','XSD','VGT','RYT','XSW']\n",
    "\n",
    "etf_daily_close = pd.read_csv('IXN.csv')\n",
    "etf_daily_close = etf_daily_close[['Date','Close']]\n",
    "for i in tech_etf[1:]: \n",
    "    etf_csv = i +'.csv'\n",
    "    etf_df = pd.read_csv(etf_csv)[['Date','Close']]\n",
    "    etf_daily_close = pd.merge(etf_daily_close,etf_df,how='left',left_on='Date',right_on='Date')\n",
    "\n",
    "pd.read_csv('IXN.csv').head()\n",
    "etf_daily_close['Date'] = pd.to_datetime(etf_daily_close['Date'])\n",
    "etf_daily_close.set_index('Date',inplace=True)\n",
    "etf_daily_close.columns = tech_etf\n",
    "etf_daily_ret = etf_daily_close.pct_change()[1:]\n",
    "stETF = st_close_ret.join(etf_daily_ret)\n",
    "stETF.head()\n"
   ]
  },
  {
   "cell_type": "code",
   "execution_count": 132,
   "metadata": {},
   "outputs": [
    {
     "data": {
      "text/plain": [
       "<AxesSubplot:>"
      ]
     },
     "execution_count": 132,
     "metadata": {},
     "output_type": "execute_result"
    },
    {
     "data": {
      "image/png": "[encoded data removed]",
      "text/plain": [
       "<Figure size 432x288 with 2 Axes>"
      ]
     },
     "metadata": {},
     "output_type": "display_data"
    }
   ],
   "source": [
    "sns.heatmap(etf_daily_ret.corr())"
   ]
  },
  {
   "cell_type": "markdown",
   "metadata": {},
   "source": [
    "trying in normal CAPM model on MSFT"
   ]
  },
  {
   "cell_type": "code",
   "execution_count": 133,
   "metadata": {
    "scrolled": true
   },
   "outputs": [
    {
     "data": {
      "text/html": [
       "<table class=\"simpletable\">\n",
       "<caption>OLS Regression Results</caption>\n",
       "<tr>\n",
       "  <th>Dep. Variable:</th>          <td>MSFT</td>       <th>  R-squared:         </th>  <td>   0.481</td> \n",
       "</tr>\n",
       "<tr>\n",
       "  <th>Model:</th>                   <td>OLS</td>       <th>  Adj. R-squared:    </th>  <td>   0.481</td> \n",
       "</tr>\n",
       "<tr>\n",
       "  <th>Method:</th>             <td>Least Squares</td>  <th>  F-statistic:       </th>  <td>   2328.</td> \n",
       "</tr>\n",
       "<tr>\n",
       "  <th>Date:</th>             <td>Wed, 28 Oct 2020</td> <th>  Prob (F-statistic):</th>   <td>  0.00</td>  \n",
       "</tr>\n",
       "<tr>\n",
       "  <th>Time:</th>                 <td>18:17:59</td>     <th>  Log-Likelihood:    </th>  <td>  7932.8</td> \n",
       "</tr>\n",
       "<tr>\n",
       "  <th>No. Observations:</th>      <td>  2515</td>      <th>  AIC:               </th> <td>-1.586e+04</td>\n",
       "</tr>\n",
       "<tr>\n",
       "  <th>Df Residuals:</th>          <td>  2513</td>      <th>  BIC:               </th> <td>-1.585e+04</td>\n",
       "</tr>\n",
       "<tr>\n",
       "  <th>Df Model:</th>              <td>     1</td>      <th>                     </th>      <td> </td>    \n",
       "</tr>\n",
       "<tr>\n",
       "  <th>Covariance Type:</th>      <td>nonrobust</td>    <th>                     </th>      <td> </td>    \n",
       "</tr>\n",
       "</table>\n",
       "<table class=\"simpletable\">\n",
       "<tr>\n",
       "    <td></td>       <th>coef</th>     <th>std err</th>      <th>t</th>      <th>P>|t|</th>  <th>[0.025</th>    <th>0.975]</th>  \n",
       "</tr>\n",
       "<tr>\n",
       "  <th>const</th> <td>    0.0003</td> <td>    0.000</td> <td>    1.254</td> <td> 0.210</td> <td>   -0.000</td> <td>    0.001</td>\n",
       "</tr>\n",
       "<tr>\n",
       "  <th>SPX</th>   <td>    1.0688</td> <td>    0.022</td> <td>   48.253</td> <td> 0.000</td> <td>    1.025</td> <td>    1.112</td>\n",
       "</tr>\n",
       "</table>\n",
       "<table class=\"simpletable\">\n",
       "<tr>\n",
       "  <th>Omnibus:</th>       <td>598.950</td> <th>  Durbin-Watson:     </th> <td>   2.038</td> \n",
       "</tr>\n",
       "<tr>\n",
       "  <th>Prob(Omnibus):</th> <td> 0.000</td>  <th>  Jarque-Bera (JB):  </th> <td>29908.667</td>\n",
       "</tr>\n",
       "<tr>\n",
       "  <th>Skew:</th>          <td> 0.187</td>  <th>  Prob(JB):          </th> <td>    0.00</td> \n",
       "</tr>\n",
       "<tr>\n",
       "  <th>Kurtosis:</th>      <td>19.890</td>  <th>  Cond. No.          </th> <td>    108.</td> \n",
       "</tr>\n",
       "</table><br/><br/>Notes:<br/>[1] Standard Errors assume that the covariance matrix of the errors is correctly specified."
      ],
      "text/plain": [
       "<class 'statsmodels.iolib.summary.Summary'>\n",
       "\"\"\"\n",
       "                            OLS Regression Results                            \n",
       "==============================================================================\n",
       "Dep. Variable:                   MSFT   R-squared:                       0.481\n",
       "Model:                            OLS   Adj. R-squared:                  0.481\n",
       "Method:                 Least Squares   F-statistic:                     2328.\n",
       "Date:                Wed, 28 Oct 2020   Prob (F-statistic):               0.00\n",
       "Time:                        18:17:59   Log-Likelihood:                 7932.8\n",
       "No. Observations:                2515   AIC:                        -1.586e+04\n",
       "Df Residuals:                    2513   BIC:                        -1.585e+04\n",
       "Df Model:                           1                                         \n",
       "Covariance Type:            nonrobust                                         \n",
       "==============================================================================\n",
       "                 coef    std err          t      P>|t|      [0.025      0.975]\n",
       "------------------------------------------------------------------------------\n",
       "const          0.0003      0.000      1.254      0.210      -0.000       0.001\n",
       "SPX            1.0688      0.022     48.253      0.000       1.025       1.112\n",
       "==============================================================================\n",
       "Omnibus:                      598.950   Durbin-Watson:                   2.038\n",
       "Prob(Omnibus):                  0.000   Jarque-Bera (JB):            29908.667\n",
       "Skew:                           0.187   Prob(JB):                         0.00\n",
       "Kurtosis:                      19.890   Cond. No.                         108.\n",
       "==============================================================================\n",
       "\n",
       "Notes:\n",
       "[1] Standard Errors assume that the covariance matrix of the errors is correctly specified.\n",
       "\"\"\""
      ]
     },
     "execution_count": 133,
     "metadata": {},
     "output_type": "execute_result"
    }
   ],
   "source": [
    "\n",
    "import statsmodels.api as sm\n",
    "\n",
    "stETF = st_close_ret.join(etf_daily_ret)\n",
    "\n",
    "spx = stETF['SPX']\n",
    "msft = stETF['MSFT']\n",
    "x = sm.add_constant(spx)\n",
    "lr = sm.OLS(msft,x)\n",
    "results = lr.fit()\n",
    "msft_spx = results.predict(x)\n",
    "results.summary()"
   ]
  },
  {
   "cell_type": "code",
   "execution_count": 164,
   "metadata": {
    "scrolled": false
   },
   "outputs": [
    {
     "data": {
      "text/plain": [
       "[<matplotlib.lines.Line2D at 0x1ece8230070>]"
      ]
     },
     "execution_count": 164,
     "metadata": {},
     "output_type": "execute_result"
    },
    {
     "data": {
      "image/png": "[encoded data removed]",
      "text/plain": [
       "<Figure size 432x288 with 1 Axes>"
      ]
     },
     "metadata": {},
     "output_type": "display_data"
    }
   ],
   "source": [
    "pred_msft = st_close.iloc[0]['MSFT'] * np.cumprod(msft_spx+1)\n",
    "plt.plot(st_close['MSFT'],'r')\n",
    "plt.plot(pred_msft,'g')"
   ]
  },
  {
   "cell_type": "code",
   "execution_count": 135,
   "metadata": {
    "scrolled": true
   },
   "outputs": [
    {
     "data": {
      "text/plain": [
       "[<matplotlib.lines.Line2D at 0x1ece8824700>]"
      ]
     },
     "execution_count": 135,
     "metadata": {},
     "output_type": "execute_result"
    },
    {
     "data": {
      "image/png": "[encoded data removed]",
      "text/plain": [
       "<Figure size 432x288 with 1 Axes>"
      ]
     },
     "metadata": {},
     "output_type": "display_data"
    }
   ],
   "source": [
    "plt.plot(msft)\n",
    "plt.plot(msft_spx)"
   ]
  },
  {
   "cell_type": "code",
   "execution_count": 142,
   "metadata": {
    "scrolled": true
   },
   "outputs": [
    {
     "data": {
      "text/html": [
       "<table class=\"simpletable\">\n",
       "<caption>OLS Regression Results</caption>\n",
       "<tr>\n",
       "  <th>Dep. Variable:</th>          <td>MSFT</td>       <th>  R-squared:         </th>  <td>   0.632</td> \n",
       "</tr>\n",
       "<tr>\n",
       "  <th>Model:</th>                   <td>OLS</td>       <th>  Adj. R-squared:    </th>  <td>   0.630</td> \n",
       "</tr>\n",
       "<tr>\n",
       "  <th>Method:</th>             <td>Least Squares</td>  <th>  F-statistic:       </th>  <td>   381.6</td> \n",
       "</tr>\n",
       "<tr>\n",
       "  <th>Date:</th>             <td>Wed, 28 Oct 2020</td> <th>  Prob (F-statistic):</th>   <td>  0.00</td>  \n",
       "</tr>\n",
       "<tr>\n",
       "  <th>Time:</th>                 <td>19:06:14</td>     <th>  Log-Likelihood:    </th>  <td>  6689.9</td> \n",
       "</tr>\n",
       "<tr>\n",
       "  <th>No. Observations:</th>      <td>  2011</td>      <th>  AIC:               </th> <td>-1.336e+04</td>\n",
       "</tr>\n",
       "<tr>\n",
       "  <th>Df Residuals:</th>          <td>  2001</td>      <th>  BIC:               </th> <td>-1.330e+04</td>\n",
       "</tr>\n",
       "<tr>\n",
       "  <th>Df Model:</th>              <td>     9</td>      <th>                     </th>      <td> </td>    \n",
       "</tr>\n",
       "<tr>\n",
       "  <th>Covariance Type:</th>      <td>nonrobust</td>    <th>                     </th>      <td> </td>    \n",
       "</tr>\n",
       "</table>\n",
       "<table class=\"simpletable\">\n",
       "<tr>\n",
       "    <td></td>       <th>coef</th>     <th>std err</th>      <th>t</th>      <th>P>|t|</th>  <th>[0.025</th>    <th>0.975]</th>  \n",
       "</tr>\n",
       "<tr>\n",
       "  <th>const</th> <td>    0.0002</td> <td>    0.000</td> <td>    1.217</td> <td> 0.224</td> <td>   -0.000</td> <td>    0.001</td>\n",
       "</tr>\n",
       "<tr>\n",
       "  <th>IXN</th>   <td>   -0.0102</td> <td>    0.102</td> <td>   -0.100</td> <td> 0.921</td> <td>   -0.211</td> <td>    0.191</td>\n",
       "</tr>\n",
       "<tr>\n",
       "  <th>IGM</th>   <td>    0.7274</td> <td>    0.120</td> <td>    6.074</td> <td> 0.000</td> <td>    0.493</td> <td>    0.962</td>\n",
       "</tr>\n",
       "<tr>\n",
       "  <th>IGV</th>   <td>    0.4399</td> <td>    0.050</td> <td>    8.743</td> <td> 0.000</td> <td>    0.341</td> <td>    0.539</td>\n",
       "</tr>\n",
       "<tr>\n",
       "  <th>XNTK</th>  <td>   -0.0087</td> <td>    0.031</td> <td>   -0.279</td> <td> 0.780</td> <td>   -0.070</td> <td>    0.052</td>\n",
       "</tr>\n",
       "<tr>\n",
       "  <th>XLK</th>   <td>    0.9794</td> <td>    0.142</td> <td>    6.900</td> <td> 0.000</td> <td>    0.701</td> <td>    1.258</td>\n",
       "</tr>\n",
       "<tr>\n",
       "  <th>XSD</th>   <td>   -0.1279</td> <td>    0.031</td> <td>   -4.117</td> <td> 0.000</td> <td>   -0.189</td> <td>   -0.067</td>\n",
       "</tr>\n",
       "<tr>\n",
       "  <th>VGT</th>   <td>   -0.3365</td> <td>    0.169</td> <td>   -1.989</td> <td> 0.047</td> <td>   -0.668</td> <td>   -0.005</td>\n",
       "</tr>\n",
       "<tr>\n",
       "  <th>RYT</th>   <td>   -0.3925</td> <td>    0.080</td> <td>   -4.916</td> <td> 0.000</td> <td>   -0.549</td> <td>   -0.236</td>\n",
       "</tr>\n",
       "<tr>\n",
       "  <th>XSW</th>   <td>   -0.2158</td> <td>    0.036</td> <td>   -6.025</td> <td> 0.000</td> <td>   -0.286</td> <td>   -0.146</td>\n",
       "</tr>\n",
       "</table>\n",
       "<table class=\"simpletable\">\n",
       "<tr>\n",
       "  <th>Omnibus:</th>       <td>516.236</td> <th>  Durbin-Watson:     </th> <td>   2.010</td> \n",
       "</tr>\n",
       "<tr>\n",
       "  <th>Prob(Omnibus):</th> <td> 0.000</td>  <th>  Jarque-Bera (JB):  </th> <td>22003.487</td>\n",
       "</tr>\n",
       "<tr>\n",
       "  <th>Skew:</th>          <td> 0.418</td>  <th>  Prob(JB):          </th> <td>    0.00</td> \n",
       "</tr>\n",
       "<tr>\n",
       "  <th>Kurtosis:</th>      <td>19.183</td>  <th>  Cond. No.          </th> <td>1.04e+03</td> \n",
       "</tr>\n",
       "</table><br/><br/>Notes:<br/>[1] Standard Errors assume that the covariance matrix of the errors is correctly specified.<br/>[2] The condition number is large, 1.04e+03. This might indicate that there are<br/>strong multicollinearity or other numerical problems."
      ],
      "text/plain": [
       "<class 'statsmodels.iolib.summary.Summary'>\n",
       "\"\"\"\n",
       "                            OLS Regression Results                            \n",
       "==============================================================================\n",
       "Dep. Variable:                   MSFT   R-squared:                       0.632\n",
       "Model:                            OLS   Adj. R-squared:                  0.630\n",
       "Method:                 Least Squares   F-statistic:                     381.6\n",
       "Date:                Wed, 28 Oct 2020   Prob (F-statistic):               0.00\n",
       "Time:                        19:06:14   Log-Likelihood:                 6689.9\n",
       "No. Observations:                2011   AIC:                        -1.336e+04\n",
       "Df Residuals:                    2001   BIC:                        -1.330e+04\n",
       "Df Model:                           9                                         \n",
       "Covariance Type:            nonrobust                                         \n",
       "==============================================================================\n",
       "                 coef    std err          t      P>|t|      [0.025      0.975]\n",
       "------------------------------------------------------------------------------\n",
       "const          0.0002      0.000      1.217      0.224      -0.000       0.001\n",
       "IXN           -0.0102      0.102     -0.100      0.921      -0.211       0.191\n",
       "IGM            0.7274      0.120      6.074      0.000       0.493       0.962\n",
       "IGV            0.4399      0.050      8.743      0.000       0.341       0.539\n",
       "XNTK          -0.0087      0.031     -0.279      0.780      -0.070       0.052\n",
       "XLK            0.9794      0.142      6.900      0.000       0.701       1.258\n",
       "XSD           -0.1279      0.031     -4.117      0.000      -0.189      -0.067\n",
       "VGT           -0.3365      0.169     -1.989      0.047      -0.668      -0.005\n",
       "RYT           -0.3925      0.080     -4.916      0.000      -0.549      -0.236\n",
       "XSW           -0.2158      0.036     -6.025      0.000      -0.286      -0.146\n",
       "==============================================================================\n",
       "Omnibus:                      516.236   Durbin-Watson:                   2.010\n",
       "Prob(Omnibus):                  0.000   Jarque-Bera (JB):            22003.487\n",
       "Skew:                           0.418   Prob(JB):                         0.00\n",
       "Kurtosis:                      19.183   Cond. No.                     1.04e+03\n",
       "==============================================================================\n",
       "\n",
       "Notes:\n",
       "[1] Standard Errors assume that the covariance matrix of the errors is correctly specified.\n",
       "[2] The condition number is large, 1.04e+03. This might indicate that there are\n",
       "strong multicollinearity or other numerical problems.\n",
       "\"\"\""
      ]
     },
     "execution_count": 142,
     "metadata": {},
     "output_type": "execute_result"
    }
   ],
   "source": [
    "x = stETF.loc[:,tech_etf].dropna()\n",
    "y = stETF.loc[x.index[0]:x.index[-1],:]['MSFT']\n",
    "#y = st_close_ret.loc[x.index[0],:]['GOOG'].dropna()\n",
    "#x = st_close_ret.loc[y.index[0],:]['SPX']\n",
    "x = sm.add_constant(x)\n",
    "lr = sm.OLS(y,x)\n",
    "results = lr.fit()\n",
    "msft_etf = results.predict(x)\n",
    "results.summary()"
   ]
  },
  {
   "cell_type": "code",
   "execution_count": 163,
   "metadata": {
    "scrolled": true
   },
   "outputs": [
    {
     "data": {
      "text/plain": [
       "[<matplotlib.lines.Line2D at 0x1ece8d238e0>]"
      ]
     },
     "execution_count": 163,
     "metadata": {},
     "output_type": "execute_result"
    },
    {
     "data": {
      "image/png": "[encoded data removed]",
      "text/plain": [
       "<Figure size 432x288 with 1 Axes>"
      ]
     },
     "metadata": {},
     "output_type": "display_data"
    }
   ],
   "source": [
    "pred_msft_etf = st_close.iloc[0]['MSFT'] * np.cumprod(msft_etf+1)\n",
    "pred_msft_ind = st_close.loc[pred_msft_etf.index[0]:]['MSFT'].iloc[0] * np.cumprod(msft_spx+1)\n",
    "plt.plot(pred_msft_etf, 'r')\n",
    "plt.plot(st_close['MSFT'], 'b')\n",
    "plt.plot(pred_msft_ind, 'c')"
   ]
  },
  {
   "cell_type": "code",
   "execution_count": 233,
   "metadata": {},
   "outputs": [],
   "source": [
    "def regress_pca(stock,pca_factors): \n",
    "    pca_f = PCA(n_components = 1)\n",
    "    pca_f.fit(pca_factors)\n",
    "    features = pca_f.transform(pca_factors)\n",
    "    features = pd.DataFrame(features,index=pca_factors.index,columns=['etf_pca1'])\n",
    "    x_pca = sm.add_constant(features)\n",
    "    y = stock\n",
    "    lr = sm.OLS(y,x_pca)\n",
    "    results = lr.fit()\n",
    "    alpha = results.params[0]\n",
    "    beta1 = results.params[1]\n",
    "    res = y - beta1 * x_pca.iloc[:,1] -alpha\n",
    "    #beta2 = results.params[2]\n",
    "    return alpha,beta1,res\n",
    "\n",
    "def calc_ar1(residual): \n",
    "    ar1 = ARIMA(residual,order=(1,0,0)).fit()\n",
    "    ar1_a = ar1.params[0]\n",
    "    ar1_b = ar1.params[1]\n",
    "    ar1_res  = ar1.resid\n",
    "    return ar1_a,ar1_b,ar1_res\n",
    "\n",
    "def compute_s_score(a,b,r):\n",
    "    if(b>0):\n",
    "        k = -(math.log(b) * 252)\n",
    "    else: \n",
    "        k = -(-math.log(abs(b))*252)\n",
    "    m = a/(1-b)\n",
    "    std_ar_r = np.sqrt(np.var(r) * 2 * k / (1-b**2))\n",
    "    std_r_eq = np.sqrt(np.var(r) / (1-b**2))\n",
    "    s = (r[-1]-m)/std_r_eq\n",
    "    return s,std_ar_r\n",
    "\n",
    "def calculate_signals(s,b,window): \n",
    "    signal = pd.DataFrame(columns = s.columns, index = s.index[window:])\n",
    "    for i in range(0,2): \n",
    "        print('running for'+ \" \" + s.columns[i])\n",
    "        curr_s = s.iloc[:,i]\n",
    "        for j in range(window,s.shape[0]-20):\n",
    "            if(j%200 == 0): \n",
    "                print(\"currently at iteration: \"+ str(j))\n",
    "            stock = s.iloc[j:j+window,i]\n",
    "            pca_f = b.iloc[j:j+window,:]\n",
    "            alpha,beta,res = regress_pca(stock,pca_f)\n",
    "            ar1_a,ar1_b,ar1_res = calc_ar1(res[1:])\n",
    "            signal.loc[stock.index[-1],s.columns[i]] = compute_s_score(ar1_a,ar1_b,ar1_res)[0]\n",
    "    return signal\n",
    "        \n",
    "    "
   ]
  },
  {
   "cell_type": "code",
   "execution_count": 243,
   "metadata": {},
   "outputs": [
    {
     "name": "stderr",
     "output_type": "stream",
     "text": [
      "c:\\users\\suher\\miniconda3\\lib\\site-packages\\statsmodels\\tsa\\arima_model.py:472: FutureWarning: \n",
      "statsmodels.tsa.arima_model.ARMA and statsmodels.tsa.arima_model.ARIMA have\n",
      "been deprecated in favor of statsmodels.tsa.arima.model.ARIMA (note the .\n",
      "between arima and model) and\n",
      "statsmodels.tsa.SARIMAX. These will be removed after the 0.12 release.\n",
      "\n",
      "statsmodels.tsa.arima.model.ARIMA makes use of the statespace framework and\n",
      "is both well tested and maintained.\n",
      "\n",
      "To silence this warning and continue using ARMA and ARIMA until they are\n",
      "removed, use:\n",
      "\n",
      "import warnings\n",
      "warnings.filterwarnings('ignore', 'statsmodels.tsa.arima_model.ARMA',\n",
      "                        FutureWarning)\n",
      "warnings.filterwarnings('ignore', 'statsmodels.tsa.arima_model.ARIMA',\n",
      "                        FutureWarning)\n",
      "\n",
      "  warnings.warn(ARIMA_DEPRECATION_WARN, FutureWarning)\n",
      "c:\\users\\suher\\miniconda3\\lib\\site-packages\\statsmodels\\tsa\\base\\tsa_model.py:581: ValueWarning: A date index has been provided, but it has no associated frequency information and so will be ignored when e.g. forecasting.\n",
      "  warnings.warn('A date index has been provided, but it has no'\n"
     ]
    },
    {
     "data": {
      "text/plain": [
       "(0.31230911749624646, 0.4853667777958485)"
      ]
     },
     "execution_count": 243,
     "metadata": {},
     "output_type": "execute_result"
    }
   ],
   "source": [
    "#test_run\n",
    "stetf = stETF[stETF['IXN'].notna()]\n",
    "s = stetf['AAPL']\n",
    "b = stetf.loc[:,tech_etf]\n",
    "alpha,beta,residual  = regress_pca(s,b)\n",
    "a,b,r = calc_ar1(residual[1:])\n",
    "compute_s_score(a,b,r)"
   ]
  },
  {
   "cell_type": "code",
   "execution_count": 341,
   "metadata": {
    "scrolled": true
   },
   "outputs": [
    {
     "data": {
      "text/plain": [
       "<AxesSubplot:>"
      ]
     },
     "execution_count": 341,
     "metadata": {},
     "output_type": "execute_result"
    },
    {
     "data": {
      "image/png": "[encoded data removed]",
      "text/plain": [
       "<Figure size 432x288 with 2 Axes>"
      ]
     },
     "metadata": {},
     "output_type": "display_data"
    }
   ],
   "source": [
    "check_cor = stetf[['MSFT','AAPL']]\n",
    "check_cor = check_cor.join(stetf.loc[:,tech_etf])\n",
    "corr = check_cor.corr()[['MSFT','AAPL']]\n",
    "sns.heatmap(check_cor.corr())"
   ]
  },
  {
   "cell_type": "code",
   "execution_count": 339,
   "metadata": {
    "scrolled": false
   },
   "outputs": [
    {
     "name": "stdout",
     "output_type": "stream",
     "text": [
      "running for IGM\n",
      "currently at iteration: 200\n",
      "currently at iteration: 400\n",
      "currently at iteration: 600\n",
      "currently at iteration: 800\n",
      "currently at iteration: 1000\n",
      "currently at iteration: 1200\n",
      "currently at iteration: 1400\n",
      "currently at iteration: 1600\n",
      "currently at iteration: 1800\n",
      "running for XLK\n",
      "currently at iteration: 200\n",
      "currently at iteration: 400\n",
      "currently at iteration: 600\n",
      "currently at iteration: 800\n",
      "currently at iteration: 1000\n",
      "currently at iteration: 1200\n",
      "currently at iteration: 1400\n",
      "currently at iteration: 1600\n",
      "currently at iteration: 1800\n"
     ]
    }
   ],
   "source": [
    "s = stetf[['AAPL','MSFT','IGM','XLK']]\n",
    "b = stetf.loc[:,tech_etf]\n",
    "windows = 60\n",
    "s_score = calculate_signals(s,b,windows)"
   ]
  },
  {
   "cell_type": "code",
   "execution_count": 350,
   "metadata": {
    "scrolled": true
   },
   "outputs": [],
   "source": [
    "proto_signals = s_score.dropna()"
   ]
  },
  {
   "cell_type": "code",
   "execution_count": 356,
   "metadata": {
    "scrolled": true
   },
   "outputs": [
    {
     "data": {
      "text/plain": [
       "[<matplotlib.lines.Line2D at 0x1ece2da2760>,\n",
       " <matplotlib.lines.Line2D at 0x1ece2d85fd0>,\n",
       " <matplotlib.lines.Line2D at 0x1ece2d85f70>,\n",
       " <matplotlib.lines.Line2D at 0x1ece2d680a0>]"
      ]
     },
     "execution_count": 356,
     "metadata": {},
     "output_type": "execute_result"
    },
    {
     "data": {
      "image/png": "[encoded data removed]",
      "text/plain": [
       "<Figure size 432x288 with 1 Axes>"
      ]
     },
     "metadata": {},
     "output_type": "display_data"
    }
   ],
   "source": [
    "plt.plot(proto_signals)"
   ]
  }
 ],
 "metadata": {
  "kernelspec": {
   "display_name": "Python 3",
   "language": "python",
   "name": "python3"
  },
  "language_info": {
   "codemirror_mode": {
    "name": "ipython",
    "version": 3
   },
   "file_extension": ".py",
   "mimetype": "text/x-python",
   "name": "python",
   "nbconvert_exporter": "python",
   "pygments_lexer": "ipython3",
   "version": "3.8.3"
  }
 },
 "nbformat": 4,
 "nbformat_minor": 4
}
